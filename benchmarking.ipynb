{
 "cells": [
  {
   "cell_type": "markdown",
   "id": "2f1f3a55",
   "metadata": {},
   "source": [
    "## Performance"
   ]
  },
  {
   "cell_type": "markdown",
   "id": "9aeb68ea",
   "metadata": {},
   "source": [
    "Zarr arrays are [chunked](https://zarr.readthedocs.io/en/stable/tutorial.html?highlight=chunk#chunk-optimizations), meaning that they are split up into small pieces of equal size, and each chunk is stored in a separate file. Choice of the chunk size affects performance significantly.\n",
    "\n",
    "Performance will also vary quite a bit depending on the access pattern. Slicing the array so that only data from a single chunk needs to be read from disk will be fast while array slices that cross many chunks will be slow.\n",
    "\n",
    "An overview of some chunking performance considerations are [available here](https://www.oreilly.com/library/view/python-and-hdf5/9781491944981/ch04.html).\n",
    "\n",
    "By default, *cellcutter* creates Zarr arrays with chunks of the size `[channels in TIFF, x cells, thumbnail width, thumbnail height]`, meaning for a given cell, all channels and the entire thumbnail image are stored in the same chunk. The number of cells `x` per chunk is calculated internally such that each chunk has a total uncompressed size of about 32 MB.\n",
    "\n",
    "The default chunk size works well for access patterns that request all channels and the entire thumbnail for a given range of cells. Ideally, the cells should be contiguous along the second dimension of the array."
   ]
  },
  {
   "cell_type": "code",
   "execution_count": 1,
   "id": "04eef733",
   "metadata": {},
   "outputs": [],
   "source": [
    "import zarr\n",
    "from numpy.random import default_rng"
   ]
  },
  {
   "cell_type": "code",
   "execution_count": 2,
   "id": "3163ecf9",
   "metadata": {},
   "outputs": [],
   "source": [
    "z = zarr.open(\"cellMaskThumbnails.zarr\", mode=\"r\")"
   ]
  },
  {
   "cell_type": "code",
   "execution_count": 3,
   "id": "3e347f96",
   "metadata": {},
   "outputs": [
    {
     "data": {
      "text/plain": [
       "(12, 9522, 46, 46)"
      ]
     },
     "execution_count": 3,
     "metadata": {},
     "output_type": "execute_result"
    }
   ],
   "source": [
    "z.shape"
   ]
  },
  {
   "cell_type": "code",
   "execution_count": 4,
   "id": "2667e552",
   "metadata": {},
   "outputs": [
    {
     "data": {
      "text/plain": [
       "(12, 660, 46, 46)"
      ]
     },
     "execution_count": 4,
     "metadata": {},
     "output_type": "execute_result"
    }
   ],
   "source": [
    "z.chunks"
   ]
  },
  {
   "cell_type": "markdown",
   "id": "0531a2e2",
   "metadata": {},
   "source": [
    "The `chunks` property gives the size of each chunk in the array. In this example, all 12 channels, 660 cells, and the complete thumbnail are stored in a single chunk.\n",
    "\n",
    "The number of cells per chunk is determined automatically by default and can be set directly using the `--cells-per-chunk` argument to *cellcutter* or alternatively indirectly using `--chunk-size`.\n",
    "\n",
    "Also here the number of cells per chunk should ideally be more or less in line with how many cells are requested in a typical array access operation."
   ]
  },
  {
   "cell_type": "markdown",
   "id": "a2c49780",
   "metadata": {},
   "source": [
    "### Access patterns"
   ]
  },
  {
   "cell_type": "markdown",
   "id": "346131a7",
   "metadata": {},
   "source": [
    "#### 100 Random cells"
   ]
  },
  {
   "cell_type": "code",
   "execution_count": 5,
   "id": "a427dfdc",
   "metadata": {},
   "outputs": [],
   "source": [
    "\n",
    "rng = default_rng()\n",
    "def rand_slice(n=100):\n",
    "    return rng.choice(z.shape[1], size=n, replace=False)"
   ]
  },
  {
   "cell_type": "code",
   "execution_count": 6,
   "id": "6579d2e0",
   "metadata": {},
   "outputs": [
    {
     "name": "stdout",
     "output_type": "stream",
     "text": [
      "101 ms ± 2.01 ms per loop (mean ± std. dev. of 7 runs, 10 loops each)\n"
     ]
    }
   ],
   "source": [
    "%%timeit\n",
    "_ = z.get_orthogonal_selection((slice(None), rand_slice()))"
   ]
  },
  {
   "cell_type": "markdown",
   "id": "5d639d7f",
   "metadata": {},
   "source": [
    "#### 100 Contiguous cells"
   ]
  },
  {
   "cell_type": "code",
   "execution_count": 7,
   "id": "684738b3",
   "metadata": {},
   "outputs": [
    {
     "name": "stdout",
     "output_type": "stream",
     "text": [
      "5.81 ms ± 45.3 µs per loop (mean ± std. dev. of 7 runs, 100 loops each)\n"
     ]
    }
   ],
   "source": [
    "%%timeit\n",
    "_ = z[:, 1000:1100, ...]"
   ]
  },
  {
   "cell_type": "markdown",
   "id": "bd0c9395",
   "metadata": {},
   "source": [
    "Accessing **100 random cells** from the Zarr array takes around 100 ms whereas accessing **100 contiguous cells** (cell 1000 to 1100) only takes around 6 ms — an almost 17-fold speed difference. This is because random cells are likely to be distributed across many separate chunks. All these chunks need to be read into memory in full even if only a single cell is requested for a given chunk. Given that this particular array happens to be split up into 15 chunks total the speed difference suggests that every request of 100 random cells results in all chunks being read from disk\n",
    "\n",
    "In contrast, contiguous cells are stored together in one or several neighboring chunks minimizing the amount of data that has to be read from disk."
   ]
  },
  {
   "cell_type": "markdown",
   "id": "da90bc29",
   "metadata": {},
   "source": [
    "### Fast access to random cells"
   ]
  },
  {
   "cell_type": "markdown",
   "id": "7b1e868a",
   "metadata": {},
   "source": [
    "If access to random cells is required, for example for training a machine learning model, there is a workaround avoiding the performance penalty of requesting random cells. Instead of requesting a random slices of the array we can instead randomize cell order before the Zarr array is created. Because cell order is random we can then simply access a contiguous slice of cells during training.\n",
    "\n",
    "The simplest way to randomize cell order is to shuffle the order of rows in the CSV file that is passed to *cellcutter*, for example by using *pandas* `df.sample(frac=1)`.\n",
    "\n",
    "A training loop using cell thumbnails created with this method could look something like this:"
   ]
  },
  {
   "cell_type": "code",
   "execution_count": 8,
   "id": "1762f936",
   "metadata": {},
   "outputs": [],
   "source": [
    "import pandas as pd\n",
    "from timeit import default_timer"
   ]
  },
  {
   "cell_type": "code",
   "execution_count": 9,
   "id": "901684b8",
   "metadata": {},
   "outputs": [
    {
     "name": "stdout",
     "output_type": "stream",
     "text": [
      "Iteration 0 training using cells (0, 500) validating using cells (500, 600) loading images took 0.018s\n",
      "Iteration 1 training using cells (600, 1100) validating using cells (1100, 1200) loading images took 0.03s\n",
      "Iteration 2 training using cells (1200, 1700) validating using cells (1700, 1800) loading images took 0.024s\n",
      "Iteration 3 training using cells (1800, 2300) validating using cells (2300, 2400) loading images took 0.023s\n",
      "Iteration 4 training using cells (2400, 2900) validating using cells (2900, 3000) loading images took 0.023s\n",
      "Iteration 5 training using cells (3000, 3500) validating using cells (3500, 3600) loading images took 0.023s\n",
      "Iteration 6 training using cells (3600, 4100) validating using cells (4100, 4200) loading images took 0.023s\n",
      "Iteration 7 training using cells (4200, 4700) validating using cells (4700, 4800) loading images took 0.023s\n",
      "Iteration 8 training using cells (4800, 5300) validating using cells (5300, 5400) loading images took 0.023s\n",
      "Iteration 9 training using cells (5400, 5900) validating using cells (5900, 6000) loading images took 0.027s\n",
      "Iteration 10 training using cells (6000, 6500) validating using cells (6500, 6600) loading images took 0.02s\n",
      "Iteration 11 training using cells (6600, 7100) validating using cells (7100, 7200) loading images took 0.019s\n",
      "Iteration 12 training using cells (7200, 7700) validating using cells (7700, 7800) loading images took 0.023s\n",
      "Iteration 13 training using cells (7800, 8300) validating using cells (8300, 8400) loading images took 0.023s\n",
      "Iteration 14 training using cells (8400, 8900) validating using cells (8900, 9000) loading images took 0.025s\n"
     ]
    }
   ],
   "source": [
    "csv = pd.read_csv(\"exemplar-001/quantification/unmicst-exemplar-001_cellMask.csv\")\n",
    "P = 0.2\n",
    "\n",
    "# batch sizes\n",
    "batch_size_train = 500\n",
    "batch_size_valid = round(batch_size_train * P)\n",
    "\n",
    "# training loop\n",
    "for i, s in enumerate(\n",
    "    range(0, len(csv) - batch_size_train - batch_size_valid, batch_size_train + batch_size_valid)\n",
    "):\n",
    "    # construct training and validation slices\n",
    "    train_slice = (s, s + batch_size_train)\n",
    "    valid_slice = (train_slice[1], train_slice[1] + batch_size_valid)\n",
    "    # get training and validation thumbnails\n",
    "    start_time = default_timer()\n",
    "    x_train = z[:, train_slice[0]:train_slice[1], ...]\n",
    "    x_valid = z[:, valid_slice[0]:valid_slice[1], ...]\n",
    "    end_time = default_timer()\n",
    "    print(\n",
    "        f\"Iteration {i} training using cells {train_slice}\",\n",
    "        f\"validating using cells {valid_slice}\",\n",
    "        f\"loading images took {round(end_time - start_time, 3)}s\"\n",
    "    )\n",
    "    # Do training"
   ]
  }
 ],
 "metadata": {
  "kernelspec": {
   "display_name": "Python 3 (ipykernel)",
   "language": "python",
   "name": "python3"
  },
  "language_info": {
   "codemirror_mode": {
    "name": "ipython",
    "version": 3
   },
   "file_extension": ".py",
   "mimetype": "text/x-python",
   "name": "python",
   "nbconvert_exporter": "python",
   "pygments_lexer": "ipython3",
   "version": "3.9.1"
  }
 },
 "nbformat": 4,
 "nbformat_minor": 5
}
