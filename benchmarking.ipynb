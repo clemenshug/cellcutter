{
 "cells": [
  {
   "cell_type": "markdown",
   "id": "7a34d377",
   "metadata": {},
   "source": [
    "## Performance"
   ]
  },
  {
   "cell_type": "markdown",
   "id": "8e06323b",
   "metadata": {},
   "source": [
    "Zarr arrays are [chunked](https://zarr.readthedocs.io/en/stable/tutorial.html?highlight=chunk#chunk-optimizations), meaning that they are split up into small pieces of equal size, and each chunk is stored in a separate file. Choice of the chunk size affects performance significantly.\n",
    "\n",
    "Performance will also vary quite a bit depending on the access pattern. Slicing the array so that only data from a single chunk needs to be read from disk will be fast while array slices that cross many chunks will be slow.\n",
    "\n",
    "An overview of some chunking performance considerations are [available here](https://www.oreilly.com/library/view/python-and-hdf5/9781491944981/ch04.html).\n",
    "\n",
    "By default, *cellcutter* creates Zarra arrays with chunks of the size `[channels in TIFF, x cells, thumbnail width, thumbnail height]`, meaning for a given cell, all channels and the entire thumbnail image are stored in the same chunk. The number of cells `x` per chunk is calculated internally so that each chunk has a total uncompressed size of about 32 MB.\n",
    "\n",
    "The default chunk size works well for access patterns that request all channels and the entire thumbnail for a given range of cells. Ideally, the cells should be contiguous along the second dimension of the array."
   ]
  },
  {
   "cell_type": "code",
   "execution_count": 1,
   "id": "b97b12c1",
   "metadata": {},
   "outputs": [],
   "source": [
    "import zarr\n",
    "from numpy.random import default_rng"
   ]
  },
  {
   "cell_type": "code",
   "execution_count": 2,
   "id": "1c37d308",
   "metadata": {},
   "outputs": [],
   "source": [
    "z = zarr.open(\"cellMaskThumbnails.zarr\", mode=\"r\")"
   ]
  },
  {
   "cell_type": "code",
   "execution_count": 3,
   "id": "a0df2199",
   "metadata": {},
   "outputs": [
    {
     "data": {
      "text/plain": [
       "(12, 9522, 46, 46)"
      ]
     },
     "execution_count": 3,
     "metadata": {},
     "output_type": "execute_result"
    }
   ],
   "source": [
    "z.shape"
   ]
  },
  {
   "cell_type": "code",
   "execution_count": 4,
   "id": "3cee9eba",
   "metadata": {},
   "outputs": [
    {
     "data": {
      "text/plain": [
       "(12, 330, 46, 46)"
      ]
     },
     "execution_count": 4,
     "metadata": {},
     "output_type": "execute_result"
    }
   ],
   "source": [
    "z.chunks"
   ]
  },
  {
   "cell_type": "markdown",
   "id": "6c13d733",
   "metadata": {},
   "source": [
    "The `chunks` property gives the size of each chunk in the array. In this example, all 12 channels, 330 cells, and the complete thumbnail are stored in a single chunk."
   ]
  },
  {
   "cell_type": "markdown",
   "id": "b8ee14a3",
   "metadata": {},
   "source": [
    "### Access patterns"
   ]
  },
  {
   "cell_type": "markdown",
   "id": "4dde9097",
   "metadata": {},
   "source": [
    "#### 100 Random cells"
   ]
  },
  {
   "cell_type": "code",
   "execution_count": 5,
   "id": "aece3312",
   "metadata": {},
   "outputs": [],
   "source": [
    "\n",
    "rng = default_rng()\n",
    "def rand_slice(n=100):\n",
    "    return rng.choice(z.shape[1], size=n, replace=False)"
   ]
  },
  {
   "cell_type": "code",
   "execution_count": 6,
   "id": "5d889d75",
   "metadata": {},
   "outputs": [
    {
     "name": "stdout",
     "output_type": "stream",
     "text": [
      "109 ms ± 2.9 ms per loop (mean ± std. dev. of 7 runs, 10 loops each)\n"
     ]
    }
   ],
   "source": [
    "%%timeit\n",
    "_ = z.get_orthogonal_selection((slice(None), rand_slice()))"
   ]
  },
  {
   "cell_type": "markdown",
   "id": "4a94f744",
   "metadata": {},
   "source": [
    "#### 100 Contiguous cells"
   ]
  },
  {
   "cell_type": "code",
   "execution_count": 7,
   "id": "0e8c84fe",
   "metadata": {},
   "outputs": [
    {
     "name": "stdout",
     "output_type": "stream",
     "text": [
      "4.13 ms ± 139 µs per loop (mean ± std. dev. of 7 runs, 100 loops each)\n"
     ]
    }
   ],
   "source": [
    "%%timeit\n",
    "_ = z[:, 1000:1100, ...]"
   ]
  },
  {
   "cell_type": "markdown",
   "id": "1698c8ed",
   "metadata": {},
   "source": [
    "Accessing **100 random cells** from the Zarr array takes around 110 ms whereas accessing **100 contiguous cells** (cell 1000 to 1100) only takes around 4 ms — an almost 30-fold speed difference. This is because random cells are likely to be distributed across many separate chunks. All these chunks need to be read into memory in full even if only a single cell is requested for a given chunk. In contrast, contiguous cells are stored together in one or several neighboring chunks minimizing the amount of data that has to be read from disk."
   ]
  },
  {
   "cell_type": "markdown",
   "id": "7bf635ce",
   "metadata": {},
   "source": [
    "### Fast access to random cells"
   ]
  },
  {
   "cell_type": "markdown",
   "id": "3d6daeba",
   "metadata": {},
   "source": [
    "If access to random cells is required, for example for training a machine learning model, there is a workaround avoiding the performance penalty of requesting random cells. Instead of truly accessing random cells we can instead randomize cell order before the Zarr array is created. Because cell order is random we can then simply request contiguous cells during training.\n",
    "\n",
    "The simplest way to randomize cell order is to shuffle the order of rows in the CSV file that is passed to *cellcutter*, for example by using *pandas* `df.sample(frac=1)`."
   ]
  }
 ],
 "metadata": {
  "kernelspec": {
   "display_name": "Python 3 (ipykernel)",
   "language": "python",
   "name": "python3"
  },
  "language_info": {
   "codemirror_mode": {
    "name": "ipython",
    "version": 3
   },
   "file_extension": ".py",
   "mimetype": "text/x-python",
   "name": "python",
   "nbconvert_exporter": "python",
   "pygments_lexer": "ipython3",
   "version": "3.9.1"
  }
 },
 "nbformat": 4,
 "nbformat_minor": 5
}
